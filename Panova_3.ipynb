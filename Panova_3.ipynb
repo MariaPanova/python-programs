{
 "cells": [
  {
   "cell_type": "code",
   "execution_count": null,
   "metadata": {},
   "outputs": [],
   "source": [
    "\"\"\"\n",
    "@author: Panova Maria 428\n",
    "Variant 21\n",
    "\n",
    "№1 Методами дихотомии и хорд найти один из корней уравнения 3*x**4 + 8*x**3 + 6*x**2 - 10 = 0 (отделение корня аналитически)\n",
    "№2 Методами простой итерации и Ньютона найти один из корней уравнения 7**x - 6*x = 2 (начертить график для отделения корней)\n",
    "№3 Методом Ньютона найти один из корней системы уравнений: \n",
    "                                                           x**3 + y**3 = 8\n",
    "                                                           y = 3 − x**(3/2)\n",
    "\"\"\"\n"
   ]
  },
  {
   "cell_type": "code",
   "execution_count": 10,
   "metadata": {},
   "outputs": [],
   "source": [
    "import numpy as np\n",
    "import math as m\n",
    "import matplotlib.pyplot as plt"
   ]
  },
  {
   "cell_type": "code",
   "execution_count": 11,
   "metadata": {},
   "outputs": [],
   "source": [
    "def f(x):\n",
    "    return 3*x*x*x*x+8*x*x*x+6*x*x-10"
   ]
  },
  {
   "cell_type": "code",
   "execution_count": 12,
   "metadata": {},
   "outputs": [
    {
     "name": "stdout",
     "output_type": "stream",
     "text": [
      "Аналитически найдено, что x1~0.75, x2~-2.04\n",
      "Выбираю корень x1~0.75\n",
      "x ~  0.826019287109375\n",
      "Количество шагов 13\n"
     ]
    }
   ],
   "source": [
    "# Метод дихотомии\n",
    "\n",
    "print (\"Аналитически найдено, что x1~0.75, x2~-2.04\")\n",
    "print (\"Выбираю корень x1~0.75\")\n",
    "a = 0.5\n",
    "b = 1\n",
    "E = 0.0001\n",
    "N1 = 0\n",
    "while (abs(b-a) >= E):\n",
    "    c = (a+b)/2\n",
    "    if (f(a)*f(c) < 0):\n",
    "        b = c\n",
    "    if (f(b)*f(c) < 0):\n",
    "        a = c\n",
    "    N1 += 1\n",
    "print (\"x ~ \", (a+b)/2)\n",
    "print (\"Количество шагов\", N1 )\n",
    "    "
   ]
  },
  {
   "cell_type": "code",
   "execution_count": 13,
   "metadata": {},
   "outputs": [
    {
     "name": "stdout",
     "output_type": "stream",
     "text": [
      "x ~  0.8260412264376165\n",
      "Количество шагов  23\n"
     ]
    }
   ],
   "source": [
    "# Метод хорд\n",
    "\n",
    "E = 0.0001\n",
    "a = 0\n",
    "b = 1\n",
    "N2 = 0\n",
    "while (abs(b-a) >= E):\n",
    "    A = (f(a)-f(b))/(a-b)\n",
    "    B = f(a)-A*a\n",
    "    c = -B/A\n",
    "    if (f(a)*f(c) < 0):\n",
    "        b = c\n",
    "    if (f(b)*f(c) < 0):\n",
    "        a = c\n",
    "    N2 += 1\n",
    "print (\"x ~ \", a)\n",
    "print (\"Количество шагов \", N2 )\n"
   ]
  },
  {
   "cell_type": "code",
   "execution_count": 14,
   "metadata": {},
   "outputs": [
    {
     "data": {
      "image/png": "[encoded data removed]",
      "text/plain": [
       "<Figure size 432x288 with 1 Axes>"
      ]
     },
     "metadata": {
      "needs_background": "light"
     },
     "output_type": "display_data"
    },
    {
     "name": "stdout",
     "output_type": "stream",
     "text": [
      "Приблизительные корни -0,24 и 1,2. Возьмем x ~ -0.24\n"
     ]
    }
   ],
   "source": [
    "# Графическое отделение корней\n",
    "\n",
    "def f1(x):\n",
    "    return 7**x\n",
    "def f2(x):\n",
    "    return 6*x+2\n",
    "\n",
    "E = 0.0001\n",
    "h = 0.001\n",
    "N3 = 0\n",
    "\n",
    "g_y1 = [] \n",
    "g_y2 = []\n",
    "g_x = []\n",
    "x = -1.2\n",
    "\n",
    "while (x <= 1.2):\n",
    "    g_x.append(x)\n",
    "    g_y1.append(f1(x))\n",
    "    g_y2.append(f2(x))\n",
    "    x+=h\n",
    "    \n",
    "plt.figure() \n",
    "plt.plot (g_x, g_y1)\n",
    "plt.plot (g_x, g_y2)\n",
    "plt.grid(True)\n",
    "plt.show()\n",
    "    \n",
    "print(\"Приблизительные корни -0,24 и 1,2. Возьмем x ~ -0.24\")\n",
    "\n"
   ]
  },
  {
   "cell_type": "code",
   "execution_count": 15,
   "metadata": {},
   "outputs": [
    {
     "name": "stdout",
     "output_type": "stream",
     "text": [
      "x ~  -0.22597323486592272\n",
      "Количество шагов  4\n"
     ]
    }
   ],
   "source": [
    "# Метод простой итерации\n",
    "\n",
    "X = -0.5\n",
    "pf = m.log(7) * 7**X - 6  # производная\n",
    "\n",
    "def Fun(x):\n",
    "    return 7**x - 6*x - 2\n",
    "\n",
    "while (abs(Fun(X) >= E)):\n",
    "    x1 = X - (Fun(X)/pf)\n",
    "    X = x1\n",
    "    N3+=1\n",
    "print (\"x ~ \", X)\n",
    "print (\"Количество шагов \", N3)"
   ]
  },
  {
   "cell_type": "code",
   "execution_count": 16,
   "metadata": {},
   "outputs": [
    {
     "name": "stdout",
     "output_type": "stream",
     "text": [
      "x ~  -0.22596188782774126\n",
      "Количество шагов  3\n"
     ]
    }
   ],
   "source": [
    "# Метод Ньютона\n",
    "\n",
    "E = 0.0001\n",
    "X = -0.5\n",
    "N4 = 0\n",
    "\n",
    "def Fun(x):\n",
    "    return 7**x - 6*x - 2\n",
    "def pFun(x):\n",
    "    return m.log(7) * 7**x - 6\n",
    "\n",
    "while (abs(Fun(X) >= E)):\n",
    "    x1 = X - (Fun(X)/pFun(X))\n",
    "    X = x1\n",
    "    N4+=1\n",
    "print (\"x ~ \", X)\n",
    "print (\"Количество шагов \", N4)"
   ]
  },
  {
   "cell_type": "code",
   "execution_count": 17,
   "metadata": {},
   "outputs": [
    {
     "name": "stdout",
     "output_type": "stream",
     "text": [
      "Система имеет несколько решений. Одно из них x ~ 1.065 и y ~ 1.88\n",
      "x ~  1.0707919026530617\n",
      "y ~  1.8919544406654887\n",
      "Количество шагов  3\n"
     ]
    }
   ],
   "source": [
    "# Метод Ньютона для системы уравнений\n",
    "\n",
    "from numpy import linalg as la\n",
    "\n",
    "def F1(x,y):\n",
    "    return x**3 + y**3 - 8\n",
    "def F2(x,y):\n",
    "    return x**(3/2) + y - 3\n",
    "\n",
    "E = 0.0001\n",
    "x = 1.0\n",
    "y = 1.88\n",
    "N5 = 0\n",
    "x1 = 0\n",
    "\n",
    "print (\"Система имеет несколько решений. Одно из них x ~ 1.065 и y ~ 1.88\")\n",
    "\n",
    "while (abs(x - x1) >= E):\n",
    "    x1 = x\n",
    "    a11 = 3*x**2 \n",
    "    a12 = 3*y**2\n",
    "    a21 = 1.5*m.sqrt(x)\n",
    "    a22 = 1\n",
    "    W = np.array([[a11,a12],[a21,a22]]) # матрица Якоби\n",
    "    W_inv = la.inv(W) # обратная матрица\n",
    "    fun1 = F1(x,y)\n",
    "    fun2 = F2(x,y)\n",
    "    FUN = np.array([[fun1],[fun2]]) # матрица функций\n",
    "    X_i = np.array([[x],[y]]) # матрица переменных X_i\n",
    "    P = W_inv.dot(FUN) # умножение двух матриц (нашла в интернете)\n",
    "    X_i1 = X_i - P # матрица переменных X_i+1\n",
    "    x = X_i1[0][0] \n",
    "    y = X_i1[1][0]\n",
    "    N5+=1\n",
    "\n",
    "print (\"x ~ \", x)\n",
    "print (\"y ~ \", y)\n",
    "print (\"Количество шагов \", N5)"
   ]
  },
  {
   "cell_type": "code",
   "execution_count": null,
   "metadata": {},
   "outputs": [],
   "source": []
  }
 ],
 "metadata": {
  "kernelspec": {
   "display_name": "Python 3",
   "language": "python",
   "name": "python3"
  },
  "language_info": {
   "codemirror_mode": {
    "name": "ipython",
    "version": 3
   },
   "file_extension": ".py",
   "mimetype": "text/x-python",
   "name": "python",
   "nbconvert_exporter": "python",
   "pygments_lexer": "ipython3",
   "version": "3.8.8"
  }
 },
 "nbformat": 4,
 "nbformat_minor": 4
}
