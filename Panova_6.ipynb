{
 "cells": [
  {
   "cell_type": "markdown",
   "id": "3715e594",
   "metadata": {},
   "source": [
    "# Вариант 21\n",
    "Для функции, заданной таблично, вычислить значение интеграла "
   ]
  },
  {
   "cell_type": "code",
   "execution_count": 34,
   "id": "fd9d3b59",
   "metadata": {},
   "outputs": [
    {
     "name": "stdout",
     "output_type": "stream",
     "text": [
      "[-1, -0.75, -0.5, -0.25, 0, 0.25, 0.5, 0.75, 1]\n",
      "[-0.333, 0, -0.125, -0.056, 0, 0.046, 0.083, 0.115, 0.143]\n"
     ]
    }
   ],
   "source": [
    "x_list = [-1, -0.75, -0.5, -0.25, 0, 0.25, 0.5, 0.75, 1]\n",
    "f_list = [-0.333, 0, -0.125, -0.056, 0, 0.046, 0.083, 0.115, 0.143]\n",
    "print (x_list)\n",
    "print (f_list)\n",
    "h_n = 0.25\n",
    "E = 0.001"
   ]
  },
  {
   "cell_type": "markdown",
   "id": "0c035d10",
   "metadata": {},
   "source": [
    "Метод трапеции"
   ]
  },
  {
   "cell_type": "code",
   "execution_count": 35,
   "id": "a34947b6",
   "metadata": {},
   "outputs": [
    {
     "name": "stdout",
     "output_type": "stream",
     "text": [
      "-0.008\n"
     ]
    }
   ],
   "source": [
    "integral = 0\n",
    "\n",
    "for i in range(len(x_list) - 1):\n",
    "    integral += 0.5*(f_list[i] + f_list[i+1])*h_n\n",
    "    \n",
    "print(integral)"
   ]
  },
  {
   "cell_type": "markdown",
   "id": "0fc61c86",
   "metadata": {},
   "source": [
    "Интерполяция (Лагранж)"
   ]
  },
  {
   "cell_type": "code",
   "execution_count": 36,
   "id": "db61e5d4",
   "metadata": {},
   "outputs": [],
   "source": [
    "import numpy as np\n",
    "import matplotlib.pyplot as plt\n",
    "def Lag(k):\n",
    "    L = 0\n",
    "    for i in range(len(x_list)):\n",
    "        P = 1\n",
    "        for j in range(len(x_list)):\n",
    "            if i != j:\n",
    "                P = P*(k - x_list[j])/(x_list[i]-x_list[j])\n",
    "        L += f_list[i]*P\n",
    "    return L\n"
   ]
  },
  {
   "cell_type": "markdown",
   "id": "dafd50ab",
   "metadata": {},
   "source": [
    "Правило Рунге"
   ]
  },
  {
   "cell_type": "code",
   "execution_count": 38,
   "id": "57f7e41e",
   "metadata": {},
   "outputs": [
    {
     "name": "stdout",
     "output_type": "stream",
     "text": [
      "0.0625\n",
      "0.011390319824218741\n"
     ]
    }
   ],
   "source": [
    "s = 0\n",
    "s0 = integral\n",
    "h = h_n/2\n",
    "while (abs(s - s0) >= E):\n",
    "    x_new = np.arange(np.min(x_list),np.max(x_list)+h,h)\n",
    "    f_new = [Lag(i) for i in x_new]\n",
    "    for i in range(len(x_new) - 1):\n",
    "        s0 += (h/2)*(f_new[i] + f_new[i+1])\n",
    "    s = s0\n",
    "    h = h/2\n",
    "print (h)\n",
    "print(s)"
   ]
  },
  {
   "cell_type": "code",
   "execution_count": null,
   "id": "9b9beed6",
   "metadata": {},
   "outputs": [],
   "source": []
  }
 ],
 "metadata": {
  "kernelspec": {
   "display_name": "Python 3",
   "language": "python",
   "name": "python3"
  },
  "language_info": {
   "codemirror_mode": {
    "name": "ipython",
    "version": 3
   },
   "file_extension": ".py",
   "mimetype": "text/x-python",
   "name": "python",
   "nbconvert_exporter": "python",
   "pygments_lexer": "ipython3",
   "version": "3.8.8"
  }
 },
 "nbformat": 4,
 "nbformat_minor": 5
}
