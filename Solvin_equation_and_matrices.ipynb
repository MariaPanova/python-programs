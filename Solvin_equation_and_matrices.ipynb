{
 "cells": [
  {
   "cell_type": "code",
   "execution_count": 1,
   "id": "59dda21c",
   "metadata": {},
   "outputs": [],
   "source": [
    "\"\"\"\n",
    "@author: Panova Maria 428\n",
    "\n",
    "\"\"\"\n",
    "\n",
    "import numpy as np\n",
    "import math as m"
   ]
  },
  {
   "cell_type": "code",
   "execution_count": 2,
   "id": "de808623",
   "metadata": {},
   "outputs": [
    {
     "name": "stdout",
     "output_type": "stream",
     "text": [
      "Enter coefficients A, B and C\n",
      "A = 4\n",
      "B = 5\n",
      "C = 6\n",
      "There are no valid solutions\n"
     ]
    }
   ],
   "source": [
    "# №1 Решить квадратное уравнение\n",
    "\n",
    "print(\"Enter coefficients A, B and C\")\n",
    "\n",
    "a = float(input(\"A = \"))\n",
    "b = float(input(\"B = \"))\n",
    "c = float(input(\"C = \"))\n",
    "\n",
    "if ((a == 0) & (b == 0)): # проверка на \"дурака\" \n",
    "    print(\"Error\")\n",
    "elif (a == 0): # проверка на линейное уравнение\n",
    "        print(\"This is a linear equation\")\n",
    "        x = -1 * c / b\n",
    "        print(\"x = \", x)\n",
    "elif (c == 0): # проверка на отсутствие свободного члена, ур-е вида Ax^2+Bx=0\n",
    "    x = -1 * b / a\n",
    "    if (x != 0):\n",
    "        print (\"x1 = 0\")\n",
    "        print (\"x2 = \", x)\n",
    "    else: print (\"x1 = x2 = 0\") # ур-е вида Ax^2=0\n",
    "elif (b == 0): # ур-е вида Ax^2+C=0\n",
    "    x_2 = -1 * c / a\n",
    "    if (x_2 < 0):\n",
    "        print(\"There are no valid solutions\")\n",
    "    else: \n",
    "        x = m.sqrt(abs(x_2))\n",
    "        print(\"x1 = \", x)\n",
    "        print(\"x2 = -\", x)\n",
    "else: # полное квадратное уравнение\n",
    "    d = b * b - 4 * a * c\n",
    "    if (d < 0):\n",
    "        print(\"There are no valid solutions\")\n",
    "    elif (d == 0):\n",
    "        x = -1 * b / 2 / a\n",
    "        print(\"x1 = x2 = \", x)\n",
    "    else:\n",
    "        x = (-1 * b + m.sqrt(d)) / 2 / a\n",
    "        print (\"x1 = \", x)\n",
    "        x = (-1 * b - m.sqrt(d)) / 2 / a\n",
    "        print (\"x2 = \", x)"
   ]
  },
  {
   "cell_type": "code",
   "execution_count": null,
   "id": "7d5a4d97",
   "metadata": {},
   "outputs": [
    {
     "name": "stdout",
     "output_type": "stream",
     "text": [
      "Enter coefficients a1, b1 and c1\n"
     ]
    }
   ],
   "source": [
    "# №2 Решить систему линейных уравнений\n",
    "\n",
    "\"\"\"\n",
    "Решу методом Крамера\n",
    "    |a1 b1|                        |c1 b1|                        |a1 c1|\n",
    "d = |a2 b2| = a1*b2 - b1*a2   d1 = |c2 b2| = c1*b2 - b1*c2   d2 = |a2 c2| = a1*c2 - c1*a2\n",
    "\n",
    "x1 = d1/d   x2 = d2/d\n",
    "    \n",
    "\"\"\"\n",
    "\n",
    "print(\"Enter coefficients a1, b1 and c1\")\n",
    "a1 = float(input(\"a1 = \"))\n",
    "b1 = float(input(\"b1 = \"))\n",
    "c1 = float(input(\"c1 = \"))\n",
    "\n",
    "print(\"Enter coefficients a2, b2 and c2\")\n",
    "a2 = float(input(\"a2 = \"))\n",
    "b2 = float(input(\"b2 = \"))\n",
    "c2 = float(input(\"c2 = \"))\n",
    "\n",
    "d = a1 * b2 - b1 * a2\n",
    "d1 = c1 * b2 - b1 * c2\n",
    "d2 = a1 * c2 - c1 * a2\n",
    "\n",
    "if (d != 0):\n",
    "    x1 = d1 / d\n",
    "    print (\"x1 = \", x1)\n",
    "    x2 = d2 / d\n",
    "    print (\"x2 = \", x2)\n",
    "elif  (d1 == d2 == 0):\n",
    "    print (\"Infinitely many solutions\")\n",
    "elif ((d1 != 0) & (d2 != 0)):\n",
    "    print (\"There are no solutions\")\n"
   ]
  },
  {
   "cell_type": "code",
   "execution_count": 31,
   "id": "c4982732",
   "metadata": {},
   "outputs": [
    {
     "name": "stdout",
     "output_type": "stream",
     "text": [
      "Let's introduce the first matrix\n",
      "a11 = 1\n",
      "a12 = 2\n",
      "a21 = 3\n",
      "a22 = 4\n",
      "Let's introduce the second matrix\n",
      "b11 = 5\n",
      "b12 = 6\n",
      "b21 = 7\n",
      "b22 = 8\n",
      "| 1.0   2.0 |   | 5.0   6.0 |   | 19.0   22.0 |\n",
      "|           | * |           | = |\n",
      "| 3.0   4.0 |   | 7.0   8.0 |   | 43.0   50.0 |\n"
     ]
    }
   ],
   "source": [
    "# №3 Перемножить квадратные матрицы\n",
    "\n",
    "\"\"\"\n",
    "|a11 a12| * |b11 b12| = |a11*b11+a12*b21 a11*b12+a12*b22|\n",
    "|a21 a22|   |b21 b22|   |a21*b11+a22*b21 a21*b12+a22*b22|\n",
    "\n",
    "\"\"\"\n",
    "\n",
    "print(\"Let's introduce the first matrix\")\n",
    "a11 = float(input(\"a11 = \"))\n",
    "a12 = float(input(\"a12 = \"))\n",
    "a21 = float(input(\"a21 = \"))\n",
    "a22 = float(input(\"a22 = \"))\n",
    "\n",
    "print(\"Let's introduce the second matrix\")\n",
    "b11 = float(input(\"b11 = \"))\n",
    "b12 = float(input(\"b12 = \"))\n",
    "b21 = float(input(\"b21 = \"))\n",
    "b22 = float(input(\"b22 = \"))\n",
    "\n",
    "c11 = a11 * b11 + a12 * b21\n",
    "c12 = a11 * b12 + a12 * b22\n",
    "c21 = a21 * b11 + a22 * b21\n",
    "c22 = a21 * b12 + a22 * b22\n",
    "\n",
    "print(\"|\", a11,\" \", a12, \"|   |\", b11,\" \",b12,\"|   |\", c11,\" \",c12,\"|\")\n",
    "print(\"|           | * |           | = |\")\n",
    "print(\"|\", a21,\" \", a22, \"|   |\", b21,\" \",b22,\"|   |\", c21,\" \",c22,\"|\")"
   ]
  },
  {
   "cell_type": "code",
   "execution_count": null,
   "id": "7b785966",
   "metadata": {},
   "outputs": [],
   "source": []
  }
 ],
 "metadata": {
  "kernelspec": {
   "display_name": "Python 3",
   "language": "python",
   "name": "python3"
  },
  "language_info": {
   "codemirror_mode": {
    "name": "ipython",
    "version": 3
   },
   "file_extension": ".py",
   "mimetype": "text/x-python",
   "name": "python",
   "nbconvert_exporter": "python",
   "pygments_lexer": "ipython3",
   "version": "3.8.8"
  }
 },
 "nbformat": 4,
 "nbformat_minor": 5
}
